{
 "cells": [
  {
   "cell_type": "code",
   "execution_count": null,
   "id": "936bd686-7d2d-475d-af81-180314af007e",
   "metadata": {},
   "outputs": [],
   "source": [
    "with open(\"input\", \"r\") as in_file:\n",
    "    real_data = [i.rstrip(\"\\n\") for i in in_file.readlines()]"
   ]
  },
  {
   "cell_type": "code",
   "execution_count": null,
   "id": "382e6bc9-8f5a-4434-949b-6e04d4a406bf",
   "metadata": {},
   "outputs": [],
   "source": [
    "test_data='''_____'''.splitlines()"
   ]
  },
  {
   "cell_type": "code",
   "execution_count": null,
   "id": "7c5362bd-78b4-4bc8-8ea9-1cc9c305196c",
   "metadata": {},
   "outputs": [],
   "source": [
    "def calc(input):\n",
    "    acc=0\n",
    "    input = [int(i) for i in input] # Convert input to ints\n",
    "    #x = map(myfunc, ('apple', 'banana', 'cherry'))\n",
    "    for i,val in enumerate(input):\n",
    "        pass\n",
    "    return acc\n",
    "\n",
    "print(calc(test_data))"
   ]
  },
  {
   "cell_type": "code",
   "execution_count": null,
   "id": "9ee399d7-8c7f-40fc-b38c-eb4fd6b1a356",
   "metadata": {},
   "outputs": [],
   "source": [
    "print(calc(real_data))"
   ]
  }
 ],
 "metadata": {
  "kernelspec": {
   "display_name": "Python 3 (ipykernel)",
   "language": "python",
   "name": "python3"
  },
  "language_info": {
   "codemirror_mode": {
    "name": "ipython",
    "version": 3
   },
   "file_extension": ".py",
   "mimetype": "text/x-python",
   "name": "python",
   "nbconvert_exporter": "python",
   "pygments_lexer": "ipython3",
   "version": "3.8.9"
  }
 },
 "nbformat": 4,
 "nbformat_minor": 5
}
