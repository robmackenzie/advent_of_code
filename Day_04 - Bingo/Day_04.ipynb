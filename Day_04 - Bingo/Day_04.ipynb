{
 "cells": [
  {
   "cell_type": "code",
   "execution_count": 2,
   "id": "936bd686-7d2d-475d-af81-180314af007e",
   "metadata": {},
   "outputs": [],
   "source": [
    "with open(\"input\", \"r\") as in_file:\n",
    "    real_data = in_file.read()"
   ]
  },
  {
   "cell_type": "code",
   "execution_count": 3,
   "id": "382e6bc9-8f5a-4434-949b-6e04d4a406bf",
   "metadata": {},
   "outputs": [],
   "source": [
    "test_data='''7,4,9,5,11,17,23,2,0,14,21,24,10,16,13,6,15,25,12,22,18,20,8,19,3,26,1\n",
    "\n",
    "22 13 17 11  0\n",
    " 8  2 23  4 24\n",
    "21  9 14 16  7\n",
    " 6 10  3 18  5\n",
    " 1 12 20 15 19\n",
    "\n",
    " 3 15  0  2 22\n",
    " 9 18 13 17  5\n",
    "19  8  7 25 23\n",
    "20 11 10 24  4\n",
    "14 21 16 12  6\n",
    "\n",
    "14 21 17 24  4\n",
    "10 16 15  9 19\n",
    "18  8 23 26 20\n",
    "22 11 13  6  5\n",
    " 2  0 12  3  7'''"
   ]
  },
  {
   "cell_type": "code",
   "execution_count": 4,
   "id": "7c5362bd-78b4-4bc8-8ea9-1cc9c305196c",
   "metadata": {},
   "outputs": [
    {
     "name": "stdout",
     "output_type": "stream",
     "text": [
      "4512\n"
     ]
    }
   ],
   "source": [
    "\n",
    "def calc(input):\n",
    "    input=input.split('\\n\\n')\n",
    "    draws=input[0]\n",
    "    draws = draws.split(',')\n",
    "    draws = [int(i) for i in draws]\n",
    "    cards = input[1:]\n",
    "    cardWidth=5\n",
    "    cards = [[int(j) for j in i.split()] for i in cards]\n",
    "    def split_list(lst, n):  \n",
    "        for i in range(0, len(lst), n): \n",
    "            yield lst[i:i + n] \n",
    "\n",
    "    def checkCard(card,drawnNumbers):\n",
    "        drawnNumbers=set(drawnNumbers)\n",
    "        for i in split_list(card,cardWidth):\n",
    "            if set(i).issubset(drawnNumbers):\n",
    "                return True\n",
    "        for i in range(cardWidth):\n",
    "            if set(card[i::cardWidth]).issubset(drawnNumbers):\n",
    "                return True\n",
    "        return False\n",
    "    for i in range(len(draws)):\n",
    "        drawnNumbers=draws[:i+1]\n",
    "        for card in cards:\n",
    "            if checkCard(card,drawnNumbers):\n",
    "                sum=0\n",
    "                for jj in list(set(card) - set(drawnNumbers)):\n",
    "                    sum+=jj\n",
    "                return sum * draws[i]\n",
    "\n",
    "print(calc(test_data))"
   ]
  },
  {
   "cell_type": "code",
   "execution_count": 38,
   "id": "4f4abf15",
   "metadata": {},
   "outputs": [
    {
     "name": "stdout",
     "output_type": "stream",
     "text": [
      "1924\n"
     ]
    }
   ],
   "source": [
    "import functools\n",
    "def calc(input):\n",
    "    cardWidth=5\n",
    "    draws,*cards=input.split('\\n\\n')\n",
    "    draws = [int(i) for i in draws.split(',')]\n",
    "    cards = [[int(j) for j in i.split()] for i in cards]\n",
    "    def check_card_winner(card,drawnNumbers):\n",
    "        drawnNumbers=set(drawnNumbers)\n",
    "        for i in range(cardWidth):\n",
    "            if set(card[i*cardWidth:i*cardWidth+cardWidth-1]).issubset(drawnNumbers) or \\\n",
    "              set(card[i::cardWidth]).issubset(drawnNumbers):\n",
    "                return True\n",
    "    for i in range(len(draws)):\n",
    "        drawnNumbers=draws[:i+1]\n",
    "        for card in cards:\n",
    "            if check_card_winner(card,drawnNumbers) and len(cards) > 1:\n",
    "                cards.remove(card)\n",
    "            elif check_card_winner(card,drawnNumbers) and len(cards)==1:\n",
    "                return draws[i] * functools.reduce(int.__add__, set(card) - set(drawnNumbers))\n",
    "print(calc(test_data))"
   ]
  },
  {
   "cell_type": "code",
   "execution_count": 39,
   "id": "9ee399d7-8c7f-40fc-b38c-eb4fd6b1a356",
   "metadata": {},
   "outputs": [
    {
     "name": "stdout",
     "output_type": "stream",
     "text": [
      "10030\n"
     ]
    }
   ],
   "source": [
    "print(calc(real_data))"
   ]
  }
 ],
 "metadata": {
  "kernelspec": {
   "display_name": "Python 3 (ipykernel)",
   "language": "python",
   "name": "python3"
  },
  "language_info": {
   "codemirror_mode": {
    "name": "ipython",
    "version": 3
   },
   "file_extension": ".py",
   "mimetype": "text/x-python",
   "name": "python",
   "nbconvert_exporter": "python",
   "pygments_lexer": "ipython3",
   "version": "3.8.9"
  }
 },
 "nbformat": 4,
 "nbformat_minor": 5
}
