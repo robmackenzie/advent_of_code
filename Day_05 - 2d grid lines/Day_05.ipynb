{
 "cells": [
  {
   "cell_type": "code",
   "execution_count": 1,
   "id": "936bd686-7d2d-475d-af81-180314af007e",
   "metadata": {},
   "outputs": [],
   "source": [
    "with open(\"input\", \"r\") as in_file:\n",
    "    real_data = in_file.read()"
   ]
  },
  {
   "cell_type": "code",
   "execution_count": 2,
   "id": "382e6bc9-8f5a-4434-949b-6e04d4a406bf",
   "metadata": {},
   "outputs": [],
   "source": [
    "test_data='''0,9 -> 5,9\n",
    "8,0 -> 0,8\n",
    "9,4 -> 3,4\n",
    "2,2 -> 2,1\n",
    "7,0 -> 7,4\n",
    "6,4 -> 2,0\n",
    "0,9 -> 2,9\n",
    "3,4 -> 1,4\n",
    "0,0 -> 8,8\n",
    "5,5 -> 8,2'''\n",
    "#test_data='''8,0 -> 0,8'''"
   ]
  },
  {
   "cell_type": "code",
   "execution_count": 3,
   "id": "7c5362bd-78b4-4bc8-8ea9-1cc9c305196c",
   "metadata": {},
   "outputs": [
    {
     "name": "stdout",
     "output_type": "stream",
     "text": [
      "12\n"
     ]
    }
   ],
   "source": [
    "import functools,re\n",
    "def calc(input):\n",
    "    input=input.splitlines()\n",
    "    acc=0\n",
    "    #input = [int(i) for i in input] # Convert input to ints\n",
    "    #input = map(myfunc, input)\n",
    "    lines=[]\n",
    "    xmin=ymin=0\n",
    "    xmax=ymax=0\n",
    "    for i_i,i in enumerate(input):\n",
    "        ones,twos=i.split(\" -> \")\n",
    "        x1,y1=ones.split(\",\")\n",
    "        x2,y2=twos.split(\",\")\n",
    "        x1,y1,x2,y2=[int(i) for i in [x1,y1,x2,y2]]\n",
    "        lines.append([int(i) for i in [x1,y1,x2,y2]])\n",
    "        if x1 > xmax:\n",
    "            xmax=x1\n",
    "        if x2 > xmax:\n",
    "            xmax=x2\n",
    "        if y1 > xmax:\n",
    "            ymax=y1\n",
    "        if y2 > xmax:\n",
    "            ymax=y2\n",
    "    world=[[0] * (xmax+2000) for _ in range((ymax+2000))]\n",
    "    for line in lines:\n",
    "        x1,y1,x2,y2=line\n",
    "        if x1 != x2 and y1 != y2:\n",
    "            ypos=1\n",
    "            if y2-y1 < 0:\n",
    "                ypos=-1\n",
    "            xpos=1\n",
    "            if x2-x1 < 0:\n",
    "                xpos=-1\n",
    "            #print(\"range:\" + str((y1,y2+ypos,ypos)))\n",
    "            #print(list(range(y1,y2+ypos,ypos)))\n",
    "            #print()\n",
    "            for ii,diagy in enumerate(range(y1,y2+ypos,ypos)):\n",
    "                world[x1+(ii*xpos)][diagy]+=1\n",
    "            #for i in range(min(y1,y2),max(y1,y2)+1):\n",
    "        elif x1 == x2:\n",
    "            for i in range(min(y1,y2),max(y1,y2)+1):\n",
    "                world[x1][i]+=1\n",
    "        elif y1 == y2:\n",
    "            for i in range(min(x1,x2),max(x1,x2)+1):\n",
    "                world[i][y1]+=1\n",
    "    for i in world:\n",
    "        for j in i:\n",
    "            if j>=2:\n",
    "                acc+=1\n",
    "    return acc\n",
    "\n",
    "print(calc(test_data))"
   ]
  },
  {
   "cell_type": "code",
   "execution_count": 4,
   "id": "9ee399d7-8c7f-40fc-b38c-eb4fd6b1a356",
   "metadata": {},
   "outputs": [
    {
     "name": "stdout",
     "output_type": "stream",
     "text": [
      "22364\n"
     ]
    }
   ],
   "source": [
    "print(calc(real_data))"
   ]
  }
 ],
 "metadata": {
  "kernelspec": {
   "display_name": "Python 3 (ipykernel)",
   "language": "python",
   "name": "python3"
  },
  "language_info": {
   "codemirror_mode": {
    "name": "ipython",
    "version": 3
   },
   "file_extension": ".py",
   "mimetype": "text/x-python",
   "name": "python",
   "nbconvert_exporter": "python",
   "pygments_lexer": "ipython3",
   "version": "3.8.9"
  }
 },
 "nbformat": 4,
 "nbformat_minor": 5
}
