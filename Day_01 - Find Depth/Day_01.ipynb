{
 "cells": [
  {
   "cell_type": "code",
   "execution_count": 13,
   "id": "936bd686-7d2d-475d-af81-180314af007e",
   "metadata": {},
   "outputs": [],
   "source": [
    "with open(\"input\", \"r\") as in_file:\n",
    "    real_data = [i.rstrip(\"\\n\") for i in in_file.readlines()]"
   ]
  },
  {
   "cell_type": "code",
   "execution_count": 21,
   "id": "eed0ebf8-bb80-466b-9b31-311602ad9a03",
   "metadata": {},
   "outputs": [],
   "source": [
    "test_data='''199\n",
    "200\n",
    "208\n",
    "210\n",
    "200\n",
    "207\n",
    "240\n",
    "269\n",
    "260\n",
    "263'''.splitlines()"
   ]
  },
  {
   "cell_type": "code",
   "execution_count": 25,
   "id": "7c5362bd-78b4-4bc8-8ea9-1cc9c305196c",
   "metadata": {},
   "outputs": [
    {
     "name": "stdout",
     "output_type": "stream",
     "text": [
      "5\n"
     ]
    }
   ],
   "source": [
    "def calc(input):\n",
    "    acc=0\n",
    "    input = [int(i) for i in input]\n",
    "    for i,val in enumerate(input):\n",
    "        if i == 0 or i == 1:\n",
    "            pass\n",
    "        if i==len(input)-1:\n",
    "            break\n",
    "        if input[i]+input[i-1]+input[i+1] > input[i]+input[i-1]+input[i-2]:\n",
    "            acc = acc+1\n",
    "    return(acc)\n",
    "print(calc(test_data))"
   ]
  },
  {
   "cell_type": "code",
   "execution_count": 27,
   "id": "9ee399d7-8c7f-40fc-b38c-eb4fd6b1a356",
   "metadata": {},
   "outputs": [
    {
     "name": "stdout",
     "output_type": "stream",
     "text": [
      "1523\n"
     ]
    }
   ],
   "source": [
    "print(calc(real_data))"
   ]
  }
 ],
 "metadata": {
  "kernelspec": {
   "display_name": "Python 3 (ipykernel)",
   "language": "python",
   "name": "python3"
  },
  "language_info": {
   "codemirror_mode": {
    "name": "ipython",
    "version": 3
   },
   "file_extension": ".py",
   "mimetype": "text/x-python",
   "name": "python",
   "nbconvert_exporter": "python",
   "pygments_lexer": "ipython3",
   "version": "3.8.9"
  }
 },
 "nbformat": 4,
 "nbformat_minor": 5
}
