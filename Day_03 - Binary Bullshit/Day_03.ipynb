{
 "cells": [
  {
   "cell_type": "code",
   "execution_count": 1,
   "id": "936bd686-7d2d-475d-af81-180314af007e",
   "metadata": {},
   "outputs": [],
   "source": [
    "with open(\"input\", \"r\") as in_file:\n",
    "    real_data = in_file.read()"
   ]
  },
  {
   "cell_type": "code",
   "execution_count": 2,
   "id": "382e6bc9-8f5a-4434-949b-6e04d4a406bf",
   "metadata": {},
   "outputs": [],
   "source": [
    "test_data='''00100\n",
    "11110\n",
    "10110\n",
    "10111\n",
    "10101\n",
    "01111\n",
    "00111\n",
    "11100\n",
    "10000\n",
    "11001\n",
    "00010\n",
    "01010'''"
   ]
  },
  {
   "cell_type": "code",
   "execution_count": 3,
   "id": "7c5362bd-78b4-4bc8-8ea9-1cc9c305196c",
   "metadata": {},
   "outputs": [
    {
     "name": "stdout",
     "output_type": "stream",
     "text": [
      "0\n"
     ]
    }
   ],
   "source": [
    "def calc(input):\n",
    "    input=input.splitlines()\n",
    "    acc=0\n",
    "    depth=y_pos=x_pos=0\n",
    "    #input = [int(i) for i in input] # Convert input to ints\n",
    "    #input = map(myfunc, input)\n",
    "    for i_i,i in enumerate(input):\n",
    "        pass\n",
    "    return acc\n",
    "\n",
    "print(calc(test_data))"
   ]
  },
  {
   "cell_type": "code",
   "execution_count": 4,
   "id": "9ee399d7-8c7f-40fc-b38c-eb4fd6b1a356",
   "metadata": {},
   "outputs": [
    {
     "name": "stdout",
     "output_type": "stream",
     "text": [
      "0\n"
     ]
    }
   ],
   "source": [
    "print(calc(real_data))"
   ]
  },
  {
   "cell_type": "code",
   "execution_count": null,
   "id": "35c9147a",
   "metadata": {},
   "outputs": [],
   "source": []
  }
 ],
 "metadata": {
  "kernelspec": {
   "display_name": "Python 3 (ipykernel)",
   "language": "python",
   "name": "python3"
  },
  "language_info": {
   "codemirror_mode": {
    "name": "ipython",
    "version": 3
   },
   "file_extension": ".py",
   "mimetype": "text/x-python",
   "name": "python",
   "nbconvert_exporter": "python",
   "pygments_lexer": "ipython3",
   "version": "3.8.9"
  }
 },
 "nbformat": 4,
 "nbformat_minor": 5
}
