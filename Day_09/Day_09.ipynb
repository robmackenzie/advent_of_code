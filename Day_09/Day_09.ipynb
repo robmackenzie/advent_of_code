{
 "cells": [
  {
   "cell_type": "code",
   "execution_count": 2,
   "id": "936bd686-7d2d-475d-af81-180314af007e",
   "metadata": {},
   "outputs": [],
   "source": [
    "with open(\"input\", \"r\") as in_file:\n",
    "    real_data = in_file.read()"
   ]
  },
  {
   "cell_type": "code",
   "execution_count": 3,
   "id": "382e6bc9-8f5a-4434-949b-6e04d4a406bf",
   "metadata": {},
   "outputs": [],
   "source": [
    "test_data='''2199943210\n",
    "3987894921\n",
    "9856789892\n",
    "8767896789\n",
    "9899965678'''"
   ]
  },
  {
   "cell_type": "code",
   "execution_count": 50,
   "id": "7c5362bd-78b4-4bc8-8ea9-1cc9c305196c",
   "metadata": {},
   "outputs": [
    {
     "name": "stdout",
     "output_type": "stream",
     "text": [
      "(1, 0)\n",
      "(9, 0)\n",
      "(2, 2)\n",
      "(6, 4)\n",
      "{(0, 1), (4, 6), (0, 9), (2, 2)}\n",
      "15\n"
     ]
    }
   ],
   "source": [
    "import functools,re\n",
    "def calc(input):\n",
    "    input = input.splitlines()\n",
    "    new_input=[]\n",
    "    for i in input:\n",
    "        new_input.append([int(j) for j in i])\n",
    "    input=new_input\n",
    "    acc=0\n",
    "    low_points=set()\n",
    "    for y,line in enumerate(input):\n",
    "        for x,x_val in enumerate(line):\n",
    "            neighbors=[]\n",
    "            if x !=0:\n",
    "                neighbors.append((y,x-1))\n",
    "            if x !=len(line)-1:\n",
    "                neighbors.append((y,x+1))\n",
    "            if y != 0:\n",
    "                neighbors.append((y-1,x))\n",
    "            if y !=len(input)-1:\n",
    "                neighbors.append((y+1,x))\n",
    "            low_point=True\n",
    "            for i in neighbors:\n",
    "                if x_val >= input[i[0]][i[1]]:\n",
    "                    low_point=False\n",
    "                    break\n",
    "            if low_point:\n",
    "                print((x,y))\n",
    "                low_points.add((y,x))\n",
    "                acc+=x_val+1\n",
    "\n",
    "    #print(low_points)\n",
    "    return acc\n",
    "\n",
    "print(calc(test_data))\n"
   ]
  },
  {
   "cell_type": "code",
   "execution_count": 65,
   "id": "dee5e3d2",
   "metadata": {},
   "outputs": [
    {
     "name": "stdout",
     "output_type": "stream",
     "text": [
      "1134\n"
     ]
    }
   ],
   "source": [
    "import functools,re\n",
    "def calc(input):\n",
    "    input = input.splitlines()\n",
    "    new_input=[]\n",
    "    for i in input:\n",
    "        new_input.append([int(j) for j in i])\n",
    "    input=new_input\n",
    "    acc=0\n",
    "    low_points=set()\n",
    "    for y,line in enumerate(input):\n",
    "        for x,x_val in enumerate(line):\n",
    "            neighbors=[]\n",
    "            if x !=0:\n",
    "                neighbors.append((y,x-1))\n",
    "            if x !=len(line)-1:\n",
    "                neighbors.append((y,x+1))\n",
    "            if y != 0:\n",
    "                neighbors.append((y-1,x))\n",
    "            if y !=len(input)-1:\n",
    "                neighbors.append((y+1,x))\n",
    "            low_point=True\n",
    "            for i in neighbors:\n",
    "                if x_val >= input[i[0]][i[1]]:\n",
    "                    low_point=False\n",
    "                    break\n",
    "            if low_point:\n",
    "                low_points.add((y,x))\n",
    "                acc+=x_val+1\n",
    "    all_basins_sizes=[]\n",
    "    for low_point in low_points:\n",
    "        basin_points=set()\n",
    "        basin_points.add(low_point)\n",
    "        searched_points=set()\n",
    "        while not(basin_points.issubset(searched_points)):\n",
    "            for point in basin_points - searched_points:\n",
    "                neighbors=[]\n",
    "                y,x=point\n",
    "                if x !=0:\n",
    "                    neighbors.append((y,x-1))\n",
    "                if x !=len(line)-1:\n",
    "                    neighbors.append((y,x+1))\n",
    "                if y != 0:\n",
    "                    neighbors.append((y-1,x))\n",
    "                if y !=len(input)-1:\n",
    "                    neighbors.append((y+1,x))\n",
    "                for neighbor in neighbors:\n",
    "                    if input[neighbor[0]][neighbor[1]] !=9:\n",
    "                        basin_points.add(neighbor)\n",
    "                    else:\n",
    "                        searched_points.add(neighbor)\n",
    "            searched_points.add(point)\n",
    "        all_basins_sizes.append(len(basin_points))\n",
    "    all_basins_sizes.sort()\n",
    "    #print(all_basins_sizes)\n",
    "    return functools.reduce(lambda x,y: x*y,all_basins_sizes[-3:])\n",
    "print(calc(test_data))"
   ]
  },
  {
   "cell_type": "code",
   "execution_count": 67,
   "id": "9ee399d7-8c7f-40fc-b38c-eb4fd6b1a356",
   "metadata": {},
   "outputs": [
    {
     "name": "stdout",
     "output_type": "stream",
     "text": [
      "1047744\n"
     ]
    }
   ],
   "source": [
    "print(calc(real_data))"
   ]
  },
  {
   "cell_type": "code",
   "execution_count": null,
   "id": "c7e059a5",
   "metadata": {},
   "outputs": [],
   "source": []
  }
 ],
 "metadata": {
  "kernelspec": {
   "display_name": "Python 3 (ipykernel)",
   "language": "python",
   "name": "python3"
  },
  "language_info": {
   "codemirror_mode": {
    "name": "ipython",
    "version": 3
   },
   "file_extension": ".py",
   "mimetype": "text/x-python",
   "name": "python",
   "nbconvert_exporter": "python",
   "pygments_lexer": "ipython3",
   "version": "3.8.9"
  }
 },
 "nbformat": 4,
 "nbformat_minor": 5
}
