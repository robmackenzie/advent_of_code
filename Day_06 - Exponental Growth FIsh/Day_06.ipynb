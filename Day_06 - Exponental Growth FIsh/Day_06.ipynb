{
 "cells": [
  {
   "cell_type": "code",
   "execution_count": 2,
   "id": "936bd686-7d2d-475d-af81-180314af007e",
   "metadata": {},
   "outputs": [],
   "source": [
    "with open(\"input\", \"r\") as in_file:\n",
    "    real_data = in_file.read()"
   ]
  },
  {
   "cell_type": "code",
   "execution_count": 3,
   "id": "382e6bc9-8f5a-4434-949b-6e04d4a406bf",
   "metadata": {},
   "outputs": [],
   "source": [
    "test_data='''3,4,3,1,2'''"
   ]
  },
  {
   "cell_type": "code",
   "execution_count": 4,
   "id": "7c5362bd-78b4-4bc8-8ea9-1cc9c305196c",
   "metadata": {},
   "outputs": [
    {
     "name": "stdout",
     "output_type": "stream",
     "text": [
      "26984457539\n"
     ]
    }
   ],
   "source": [
    "import functools\n",
    "def calc(input):\n",
    "    input = [int(i) for i in input.splitlines()[0].split(',')]\n",
    "    fish=[0] * 9\n",
    "    for i in input:\n",
    "        fish[i]+=1\n",
    "    for day in range(256): \n",
    "        fish[(7+day)%9]+=fish[day%9]\n",
    "    return functools.reduce(int.__add__,fish)\n",
    "print(calc(test_data))"
   ]
  },
  {
   "cell_type": "code",
   "execution_count": 5,
   "id": "1b4d0acc",
   "metadata": {},
   "outputs": [
    {
     "name": "stdout",
     "output_type": "stream",
     "text": [
      "1733403626279\n"
     ]
    }
   ],
   "source": [
    "print(calc(real_data))"
   ]
  }
 ],
 "metadata": {
  "kernelspec": {
   "display_name": "Python 3 (ipykernel)",
   "language": "python",
   "name": "python3"
  },
  "language_info": {
   "codemirror_mode": {
    "name": "ipython",
    "version": 3
   },
   "file_extension": ".py",
   "mimetype": "text/x-python",
   "name": "python",
   "nbconvert_exporter": "python",
   "pygments_lexer": "ipython3",
   "version": "3.8.9"
  }
 },
 "nbformat": 4,
 "nbformat_minor": 5
}
